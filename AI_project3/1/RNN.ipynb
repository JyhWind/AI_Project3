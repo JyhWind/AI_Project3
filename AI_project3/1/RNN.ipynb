{
 "cells": [
  {
   "cell_type": "code",
   "execution_count": 1,
   "metadata": {},
   "outputs": [
    {
     "name": "stderr",
     "output_type": "stream",
     "text": [
      "C:\\Program Files (x86)\\Microsoft Visual Studio\\Shared\\Anaconda3_64\\lib\\site-packages\\h5py\\__init__.py:36: FutureWarning: Conversion of the second argument of issubdtype from `float` to `np.floating` is deprecated. In future, it will be treated as `np.float64 == np.dtype(float).type`.\n",
      "  from ._conv import register_converters as _register_converters\n",
      "Using TensorFlow backend.\n"
     ]
    }
   ],
   "source": [
    "import numpy as np\n",
    "from numpy import *\n",
    "import jieba\n",
    "import jieba.posseg as pseg\n",
    "import pandas as pd\n",
    "from keras.utils import to_categorical\n",
    "df = pd.read_csv('./sohu.csv')"
   ]
  },
  {
   "cell_type": "code",
   "execution_count": 2,
   "metadata": {},
   "outputs": [
    {
     "name": "stderr",
     "output_type": "stream",
     "text": [
      "Building prefix dict from the default dictionary ...\n",
      "Loading model from cache C:\\Users\\JINYIN~1\\AppData\\Local\\Temp\\jieba.cache\n",
      "Loading model cost 1.295 seconds.\n",
      "Prefix dict has been built succesfully.\n"
     ]
    }
   ],
   "source": [
    "'''X=train_df.loc[:,'text']\n",
    "y=train_df.loc[:,'label']\n",
    "t=0\n",
    "X_1=[]\n",
    "for i in X:\n",
    "    X_1.append(jieba.cut(i))\n",
    "    t+=1\n",
    "X_1=filter(lambda x:x !='x', X_1)'''\n",
    "df['rtext'] = df.text.apply(lambda x: \" \".join(jieba.cut(x)))\n",
    "df = df[['rtext', 'label']]"
   ]
  },
  {
   "cell_type": "code",
   "execution_count": 3,
   "metadata": {},
   "outputs": [
    {
     "data": {
      "text/html": [
       "<div>\n",
       "<style scoped>\n",
       "    .dataframe tbody tr th:only-of-type {\n",
       "        vertical-align: middle;\n",
       "    }\n",
       "\n",
       "    .dataframe tbody tr th {\n",
       "        vertical-align: top;\n",
       "    }\n",
       "\n",
       "    .dataframe thead th {\n",
       "        text-align: right;\n",
       "    }\n",
       "</style>\n",
       "<table border=\"1\" class=\"dataframe\">\n",
       "  <thead>\n",
       "    <tr style=\"text-align: right;\">\n",
       "      <th></th>\n",
       "      <th>rtext</th>\n",
       "      <th>label</th>\n",
       "    </tr>\n",
       "  </thead>\n",
       "  <tbody>\n",
       "    <tr>\n",
       "      <th>0</th>\n",
       "      <td>高清 ： 彭帅 谢淑薇 遗憾 遭 逆转 出局   击掌 互相 鼓励 责编 : 马克 杰   ...</td>\n",
       "      <td>pic</td>\n",
       "    </tr>\n",
       "    <tr>\n",
       "      <th>1</th>\n",
       "      <td>河南 周口 路边 秸秆 燃烧   2 岁 幼儿 被 熏 晕 ( 图 )     10 月 3...</td>\n",
       "      <td>news</td>\n",
       "    </tr>\n",
       "    <tr>\n",
       "      <th>2</th>\n",
       "      <td>消息 称 138 名 中国 劳工 在 菲律宾 被 抓   使馆 正 核实 【 使馆 正 核实...</td>\n",
       "      <td>news</td>\n",
       "    </tr>\n",
       "    <tr>\n",
       "      <th>3</th>\n",
       "      <td>越南 重要 军事 领导人 武元甲 大将 去世   享年 102 岁 据 美国 媒体 10 月...</td>\n",
       "      <td>news</td>\n",
       "    </tr>\n",
       "    <tr>\n",
       "      <th>4</th>\n",
       "      <td>西沙 搜救 已 发现 6 具 遇难 渔民 遗体   尚有 52 人 失踪 【 已 发现 6 ...</td>\n",
       "      <td>news</td>\n",
       "    </tr>\n",
       "  </tbody>\n",
       "</table>\n",
       "</div>"
      ],
      "text/plain": [
       "                                               rtext label\n",
       "0  高清 ： 彭帅 谢淑薇 遗憾 遭 逆转 出局   击掌 互相 鼓励 责编 : 马克 杰   ...   pic\n",
       "1  河南 周口 路边 秸秆 燃烧   2 岁 幼儿 被 熏 晕 ( 图 )     10 月 3...  news\n",
       "2  消息 称 138 名 中国 劳工 在 菲律宾 被 抓   使馆 正 核实 【 使馆 正 核实...  news\n",
       "3  越南 重要 军事 领导人 武元甲 大将 去世   享年 102 岁 据 美国 媒体 10 月...  news\n",
       "4  西沙 搜救 已 发现 6 具 遇难 渔民 遗体   尚有 52 人 失踪 【 已 发现 6 ...  news"
      ]
     },
     "execution_count": 3,
     "metadata": {},
     "output_type": "execute_result"
    }
   ],
   "source": [
    "df.head()"
   ]
  },
  {
   "cell_type": "code",
   "execution_count": 4,
   "metadata": {},
   "outputs": [],
   "source": [
    "from keras.preprocessing.text import Tokenizer\n",
    "from keras.preprocessing.sequence import pad_sequences"
   ]
  },
  {
   "cell_type": "code",
   "execution_count": 5,
   "metadata": {},
   "outputs": [],
   "source": [
    "maxlen = 100\n",
    "max_words = 10000\n",
    "tokenizer = Tokenizer(num_words=max_words)\n",
    "tokenizer.fit_on_texts(df.rtext)\n",
    "sequences = tokenizer.texts_to_sequences(df.rtext)\n",
    "data = pad_sequences(sequences, maxlen=maxlen)\n",
    "\n",
    "word_index = tokenizer.word_index\n"
   ]
  },
  {
   "cell_type": "code",
   "execution_count": null,
   "metadata": {},
   "outputs": [],
   "source": []
  },
  {
   "cell_type": "code",
   "execution_count": 6,
   "metadata": {},
   "outputs": [],
   "source": [
    "t=0\n",
    "for i in df.label:\n",
    "    if i == 'pic':\n",
    "        df.label[t] = 0\n",
    "    if i == 'news':\n",
    "        df.label[t] = 1\n",
    "    if i == 'sports':\n",
    "        df.label[t] = 2\n",
    "    if i == 'business':\n",
    "        df.label[t] = 3\n",
    "    if i == 'mil':\n",
    "        df.label[t] = 4\n",
    "    if i == 'caipiao':\n",
    "        df.label[t] = 5\n",
    "    if i == 'yule':\n",
    "        df.label[t] = 6\n",
    "    if i == 'cul':\n",
    "        df.label[t] = 7\n",
    "    t+=1\n",
    "labels = to_categorical(np.asarray(df.label))"
   ]
  },
  {
   "cell_type": "code",
   "execution_count": 7,
   "metadata": {},
   "outputs": [],
   "source": [
    "MAX_SEQUENCE_LENGTH = 100 # 每条新闻最大长度\n",
    "EMBEDDING_DIM = 200 # 词向量空间维度\n",
    "VALIDATION_SPLIT = 0.16 # 验证集比例\n",
    "TEST_SPLIT = 0.2 # 测试集比例"
   ]
  },
  {
   "cell_type": "code",
   "execution_count": 8,
   "metadata": {},
   "outputs": [],
   "source": [
    "p1 = int(len(data)*(1-VALIDATION_SPLIT-TEST_SPLIT))\n",
    "p2 = int(len(data)*(1-TEST_SPLIT))\n",
    "x_train = data[:p1]\n",
    "y_train = labels[:p1]\n",
    "x_val = data[p1:p2]\n",
    "y_val = labels[p1:p2]\n",
    "x_test = data[p2:]\n",
    "y_test = labels[p2:]\n"
   ]
  },
  {
   "cell_type": "code",
   "execution_count": 9,
   "metadata": {},
   "outputs": [],
   "source": [
    "from keras.layers import Dense, Input, Flatten, Dropout\n",
    "from keras.layers import LSTM, Embedding\n",
    "from keras.models import Sequential"
   ]
  },
  {
   "cell_type": "code",
   "execution_count": 10,
   "metadata": {},
   "outputs": [
    {
     "name": "stdout",
     "output_type": "stream",
     "text": [
      "WARNING:tensorflow:From C:\\Program Files (x86)\\Microsoft Visual Studio\\Shared\\Anaconda3_64\\lib\\site-packages\\tensorflow\\python\\framework\\op_def_library.py:263: colocate_with (from tensorflow.python.framework.ops) is deprecated and will be removed in a future version.\n",
      "Instructions for updating:\n",
      "Colocations handled automatically by placer.\n",
      "WARNING:tensorflow:From C:\\Program Files (x86)\\Microsoft Visual Studio\\Shared\\Anaconda3_64\\lib\\site-packages\\keras\\backend\\tensorflow_backend.py:3445: calling dropout (from tensorflow.python.ops.nn_ops) with keep_prob is deprecated and will be removed in a future version.\n",
      "Instructions for updating:\n",
      "Please use `rate` instead of `keep_prob`. Rate should be set to `rate = 1 - keep_prob`.\n",
      "_________________________________________________________________\n",
      "Layer (type)                 Output Shape              Param #   \n",
      "=================================================================\n",
      "embedding_1 (Embedding)      (None, 100, 200)          22535600  \n",
      "_________________________________________________________________\n",
      "lstm_1 (LSTM)                (None, 200)               320800    \n",
      "_________________________________________________________________\n",
      "dropout_1 (Dropout)          (None, 200)               0         \n",
      "_________________________________________________________________\n",
      "dense_1 (Dense)              (None, 8)                 1608      \n",
      "=================================================================\n",
      "Total params: 22,858,008\n",
      "Trainable params: 22,858,008\n",
      "Non-trainable params: 0\n",
      "_________________________________________________________________\n"
     ]
    }
   ],
   "source": [
    "model = Sequential()\n",
    "model.add(Embedding(len(word_index) + 1, EMBEDDING_DIM, \n",
    "          input_length=MAX_SEQUENCE_LENGTH))\n",
    "model.add(LSTM(200, dropout=0.2, recurrent_dropout=0.2))\n",
    "model.add(Dropout(0.2))\n",
    "model.add(Dense(labels.shape[1], activation='softmax'))\n",
    "model.summary()"
   ]
  },
  {
   "cell_type": "code",
   "execution_count": 11,
   "metadata": {},
   "outputs": [
    {
     "name": "stdout",
     "output_type": "stream",
     "text": [
      "['loss', 'acc']\n",
      "WARNING:tensorflow:From C:\\Program Files (x86)\\Microsoft Visual Studio\\Shared\\Anaconda3_64\\lib\\site-packages\\tensorflow\\python\\ops\\math_ops.py:3066: to_int32 (from tensorflow.python.ops.math_ops) is deprecated and will be removed in a future version.\n",
      "Instructions for updating:\n",
      "Use tf.cast instead.\n",
      "Train on 3789 samples, validate on 947 samples\n",
      "Epoch 1/2\n",
      "3789/3789 [==============================] - 64s 17ms/step - loss: 1.4323 - acc: 0.5329 - val_loss: 1.2795 - val_acc: 0.5692\n",
      "Epoch 2/2\n",
      "3789/3789 [==============================] - 63s 17ms/step - loss: 0.9155 - acc: 0.6920 - val_loss: 0.9094 - val_acc: 0.6589\n",
      "1185/1185 [==============================] - 7s 6ms/step\n",
      "[0.9099140395595051, 0.6388185654008439]\n"
     ]
    }
   ],
   "source": [
    "model.compile(loss='categorical_crossentropy',\n",
    "              optimizer='rmsprop',\n",
    "              metrics=['acc'])\n",
    "print (model.metrics_names)\n",
    "model.fit(x_train, y_train, validation_data=(x_val, y_val), epochs=2, batch_size=128)\n",
    "model.save('lstm.h5')\n",
    "\n",
    "print (model.evaluate(x_test, y_test))"
   ]
  }
 ],
 "metadata": {
  "kernelspec": {
   "display_name": "Python 3",
   "language": "python",
   "name": "python3"
  },
  "language_info": {
   "codemirror_mode": {
    "name": "ipython",
    "version": 3
   },
   "file_extension": ".py",
   "mimetype": "text/x-python",
   "name": "python",
   "nbconvert_exporter": "python",
   "pygments_lexer": "ipython3",
   "version": "3.6.5"
  }
 },
 "nbformat": 4,
 "nbformat_minor": 2
}
